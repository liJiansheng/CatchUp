{
 "cells": [
  {
   "cell_type": "markdown",
   "metadata": {},
   "source": [
    "<img src=\"http://imgur.com/1ZcRyrc.png\" style=\"float: left; margin: 20px; height: 55px\">\n",
    "\n",
    "# Intro to API's\n",
    "Author Dave Yerrington (SF)\n",
    "\n",
    "Objectives\n",
    "\n",
    "- Explain the utility and purpose of API's\n",
    "- Explore a usecase"
   ]
  },
  {
   "cell_type": "markdown",
   "metadata": {},
   "source": [
    "### Any ideas on why you would want to use an API?\n",
    "We will solicit some examples and discuss them briefly."
   ]
  },
  {
   "cell_type": "markdown",
   "metadata": {},
   "source": [
    "### Webservice Use case:  PokéAPI\n",
    "\n",
    "An organized collection of URLs organized to deliver a system of Pokemon data.  The PokeAPI is designed to allow developers to query Pokemon data in the following ways:\n",
    "\n",
    "- [Pokemon](https://www.pokeapi.co/docsv2/#pokemon-section)\n",
    "    - Stats\n",
    "    - Abilities \n",
    "    - Habitats\n",
    "\n",
    "- [Items](https://www.pokeapi.co/docsv2/#items-section)\n",
    "    - Item info\n",
    "    - Item attributes\n",
    "    - Item categories\n",
    "\n",
    "The webservice PokeAPI, is designed based on URL patterns, which can be used to retrieve data by topic, resource type, or attribute.  Also, we can use parameters with requests in order to control which data is retrieve as a result.\n",
    "\n",
    "#### Example endpoints for querying the above data resources include:\n",
    "\n",
    "The following endpoints describe a URL address with an implied domain.  \n",
    "\n",
    "The convention these **endpoints** follow:\n",
    "\n",
    "http:// **[BASE URL OR DOMAIN]** / + **[DIRECTORY RESOURCE]**\n",
    "\n",
    "For example, if our base url / domain was **pokeapi.co**, and our directory resource was  **api/v2/pokemon/55**, our **enpoint** would literally refer to the full URL: https://pokeapi.co/api/v2/pokemon/55\n",
    "\n",
    "\n",
    "> An **endpoint** is a URL pattern used to communicate with an API."
   ]
  },
  {
   "cell_type": "markdown",
   "metadata": {},
   "source": [
    "#### Querying Pokemon details\n",
    "- `GET api/v2/pokemon/{id or name}`\n",
    "\n",
    "If we wanted to retrieve a list of Pokemon, we could programatically query the above endpoint by simply changing the **id**.  With web service API's "
   ]
  },
  {
   "cell_type": "code",
   "execution_count": 1,
   "metadata": {},
   "outputs": [
    {
     "data": {
      "text/plain": [
       "'http://pokeapi.co/api/v2/pokemon/55'"
      ]
     },
     "execution_count": 1,
     "metadata": {},
     "output_type": "execute_result"
    }
   ],
   "source": [
    "url_parameters = dict(\n",
    "    base_url  = \"pokeapi.co\",\n",
    "    directory = \"api/v2/pokemon\",\n",
    "    pokemon_id = 55\n",
    ")\n",
    "\n",
    "endpoint  = \"http://{base_url}/{directory}/{pokemon_id}\".format(**url_parameters)\n",
    "endpoint"
   ]
  },
  {
   "cell_type": "markdown",
   "metadata": {},
   "source": [
    "#### Query the PokeAPI for Pokemon 55\n",
    "\n",
    "Using the requests library, we can query the PokeAPI over HTTP"
   ]
  },
  {
   "cell_type": "code",
   "execution_count": 2,
   "metadata": {},
   "outputs": [
    {
     "data": {
      "text/plain": [
       "<Response [200]>"
      ]
     },
     "execution_count": 2,
     "metadata": {},
     "output_type": "execute_result"
    }
   ],
   "source": [
    "import requests\n",
    "\n",
    "result = requests.get(endpoint)\n",
    "result"
   ]
  },
  {
   "cell_type": "code",
   "execution_count": 23,
   "metadata": {},
   "outputs": [
    {
     "data": {
      "text/plain": [
       "{'1116': 'wsj article north korea tried sell nuclear material last north korea tried sell nuclear material last wsj use cooky browser capability check help u deliver online service including learn enabled flash video ad blocking using website closing message box agree use browser capability check use cooky described cookie policy show dow jones corp company corp network leading company world diversified medium education information service dow jones',\n",
       " '1368': 'techcrunch ripcord digitization service ripcord get million series corporate file digitization service techcrunch ripcord get million series corporate file digitization service posted wayup get million help college grad find job way ripcord ceo alex fielding discus chief competitor iron mountain record keeping company sound run warehouse last scene raider lost ark startup come stealth week announcement million funding led kleiner perkins caufield byers goal taking corporate record paperless industrial paper digitizing robot ripcord kicking around stealth mode mostly picking client word mouth recommendation time apparently managed high profile client board though fielding open mentioning sat conversation last week company technology also scored company aforementioned series also includes funding steve wozniak fielding former apple engineer say founded company hearing horror story future competitor ripcord since built ground solution fully digitizing paper record including series robotic digitizer capable work tenth time tenth competition charge company run facility hayward california receives paper file boxful side box scanned placed machine employee largely tasked curatorial role according fielding sound nice seems largely consist helping robot troubleshoot people really suck scanning paper say fielding nobody grew dreaming human staple remover still use people operate machine piece process really letting machine best let people best machine capable number thing competition quite mastered yet removing stapler number different fastener scan wide variety different size paper index card legal size work category file using contextual clue company claim process time faster human based scanning plan digitize around million file day hayward local number apparently jump million day end file digitized shredded copy stored aws access fee file amounting page',\n",
       " '422': 'co uk uk england tyne newcastle fan train journey see ticket split image copyright jonny heywood image caption mr heywood posted picture ticket bonanza twitter newcastle uniteds travelling army fan used long journey fan found way cut cost fa cup trip oxford needed separate rail ticket jonny heywood booked split ticket tyneside magpie fa cup fourth round clash last weekend mr heywood washington saved total booking single ticket covering whole trip girlfriend left juggling ticket tweet mr heywood jokingly thanked friend worst advice ever received tweet prompted people tell thriftiness including football fan posted picture mound ticket trip see southampton saved split ticket save passenger money separate fare leg journey train sometimes cheaper ticket covering entire trip although mr heywood saved money endure pummelling hand league oxford',\n",
       " '413': 'bostonglobe magazine boston really worst dressed city america ryx jwxkxlwwdydiqenpvp story html boston really worst dressed city america e mail share via e mail add message e mail facebook twitter linkedin comment print boston globe tweet share illustration rudy farber alyssa giacobbe february five year ago gq ranked boston worst dressed city america headlining list included omaha st paul buffalo magazine found notably embarrassingly chic america bad taste storm sewer writer described boston worst fashion idea across country flow stagnate putrefy example included boat shoe sock sportswear formalwear khaki pleat pleat accompanying photo showed bunch postgrad frat boy pretty sure went college pullover fleece dad jean time city made list likely last hand hard rebut walk boston street given day showcase every offense street might also produce woman cat print silk blouse stella mccartney rag bone lace leather pant popular intermix boutique newbury street last fall store leader tina markos reorder twice advertisement still khaki fleece people remember reputation badly dressed unshakable given unironic devotion teaching official preppy handbook noted rest world saw satire probably earned somehow though managed turn tastelessness point pride dress drive decision deficit intellectual fashion better thing spend money obscenely expensive housing cold outside practical people well uggs pretty damn cozy dress better even deign try fashion victim newbury street retailer alan bilzerian told globe gq takedown confident enough dress got blame right today headline inbox sign thank signing sign newsletter maybe instead victim product retailer buy cliche stock store accordingly leaving u choice perpetuate cycle newbury street becomes ever driven chain store corporate headquarters city reputation show sign improving easy wonder really bad taste storm sewer choice buying retailer brought sell moved boston new york mid went around favorite store shopped never shop envisioned boston visited youth store along newbury filled kelly green cable knit sweater line skirt printed fruit palm tree arrived though found much different local boutique stil stel course louis boston selling fashion forward line around world dealing especially indie designer name marni row loeffler randall sold silhouette else carrying vibe color palette definitely chic cute louis owner debi greenberg influential could often demand citywide exclusivity line decided carry advertisement three boutique gone stel space tobacco shop louis boston became restoration hardware stil owner betty riaz run yoga studio dedham legacy place fact independent retailer remain newbury rising rent made keeping shop untenable nearly everyone multinational chain zara anthropologie h affordable end valentino chanel dolce gabbana upscale notable exception including alan bilzerian location since neighbor riccardi opened many independent shop number dwindling general forced south end beacon hill beyond opened stil year ago fashion taste superconservative say riaz think stem deep rooted culture proper oldest city america plenty fashion forward customer bit restaurant opening newly gentrified area getting bit soon many instance novelty wore people returned comfort zone well rent exorbitant always wish might time independent store might consideration rent sort break needed wanted landlord going people pay riaz say sort need independent funding run independent shop martha pickett jane schlueter shop dress opened newbury closed eventually reopened beacon hill pickett say uncovered generally supportive community business resident insists boston shopper conservative reputation though whole forefront fashion either think lean toward classic understated anything else dress mean stylish unfussy day weekend wear silk dress lace top statement sweat shirt lot denim schlueter take calculated buying risk something love quite picture might buy patchwork fur cropped vest sea new york order handful even though vest arrived store oppressively hot stretch june ended selling three within day positive response course embolden store dress continue push envelope bring piece perhaps quite avant garde toe line comfortably familiar different old pickett say schlueter recently started carrying small selection designer rachel comey known inventive piece often inspired new york art scene flew door even way next season betty riaz say kind teach yoga class know student going throw hard posture want satisfy interested beginner provide advanced student need riaz see large chain afford take risk neiman marcus opened natick collection riaz suburban outpost stil thought boston finally earned shot proving worthy interesting option almost everything brought conservative say le five year adding luxury wing neiman marcus anchored natick collection reverted considerably pedestrian name natick mall walking regular mall high end section hard notice crowd thinner thinner disappearing entirely part resistance pushing envelope product corporate structure big store process town buyer communicate floor staff daily interaction customer still process contrast owner independent shop work floor constant face face contact allows tailor buy client often even specific client taste analyze every customer every purchase say sari brown owns buying luxcouture newton highland describes customer professional woman doctor lawyer woman sit board multiple home travel often spend money comfort zone brown best respect push little bit say extreme work three year ago brown brought line flare cut cropped jean nobody wanted wear ugly recall fast forward frame denim put flare cut cropped jean keep stock crystal ball thing matter hard try rush click click moment buy safe twist say people make fashion faux pa shopping store precisely shop store harley bilzerian woman buyer father boutique say although feel client taste progressed last year bostonian readiness embrace trend slower major city take longer catch really say see people sometimes seeing magazine help understand better client look runway show online many see social medium still need walk mixed print say work progress color catching woman day trying dress bilzerian say say well yellow gonna wear left without seem confirm problem u yet bilzerian say exciting buy past season haider ackermann known memorable piece animal print bold color runaway hit among best seller crushed velvet blazer pant red velvet front leather back big wow factor say sure love say everybody fighting illustration rudy farber buyer department store chain boutique might know customer quite intimately independent shop least sort name basis sari brown harley bilzerian enjoy leftover city store often complex buying process includes analyzing sale pattern constant conversation stylist floor staff interact customer day day national chain intermix location newbury street street chestnut hill corporate analyst review store performance end every week tracking sale monitoring demand addition fielding report store leader piece line category clothing underperforming given store transfer location market proved bigger much percent assortment given time company president jyothi rao call responsive similarly store getting lot request piece client see online carried store system set let buyer take request consideration next time around individual location also merchandise differently based clientele intermix store window newbury might feature leather jacket plaid skirt chloe studded booty chestnut hill shop might put jacket pair jean work hard understand boutique intimately individually rao say boston probably fewer client want super edgy style fashionable clientele afraid sexy might le color print pattern market believe velvet moment going across boutique boston might overt rao say newbury boutique become top performing location among store nationwide use word elevated refined polished say contrary reputation cheapskate pony addition assortment new independent neighborhood boutique back bay ultra avant garde human farther ava boutique wellesley nine street newburyport influx ultra high end designer outpost including dolce gabbana valentino plus recent expansion chanel hermes louis shuttered fan pier location summer saks fifth avenue pru scooped many forward thinking label became available marni dry van noten saks fashion stylist suhail kwatra top producer across entire company mean sell colleague even city considered fashionable job predicated relationship also obviously clothes woman buying wearing find department store buyer become thoughtful paying attention say anne lower co owner boston based gordonlower public relation kwatra client shop saks boston versus saks atlanta grew different product mix boston getting crew neck sweater atlanta getting ball gown car centric atlanta point shoe department acre shoe see thing never see want see probably atlanta market seven inch studded christian louboutins walk around lot foot time despite influx foreign wealth transformed city skyline recent year international population always form seem transforming fashion look city despite cash make even fashionable among u dress environment context matter betty riaz put rome know kerry epstein personal shopper stylist weston client put time say customer gotten progressive since launched business year ago bostonian become sophisticated interesting dress say think store met helping move along woman see come looking high fashion mom work full time want upgrade quite time figure sitting around perusing fashion magazine say admires fur lined parka mr mr italy barneys new york copley place mean could client buy glad note gq difference bad taste disinterest pragmatism bostonian afraid spend though likely spend thing wear often keep take really good care clothes washing everything gentle cycle rarely using dryer dry cleaning little possible say anne lower follows motto buy le buy great french italian location beacon hill marblehead owner buyer aimee lombardi say customer talk constantly cost per wear new englander always going want utility buying say want mileage customer love coming saying aimee wore dress bought six year ago philosophy catching witness return l l bean bean boot long boston staple coveted rest world waiting list pair long also rise normcore fashion movement described embrace bland suburban anti fashion attire took hold brooklyn young urban enclave year back arguably bostonian perfecting decade lombardi client part gravitate toward knitwear coat dress staying power range hundred per piece great quote saw paris week ago good style show sign effort say try thoughtful toward someone lifestyle trying sell leather dress wear sell cardigan put every morning shearling lined clog take sting going supermarket footwear say practical comfort big mean little gentle pushing lot shoulder top selling say getting customer try always easy meanwhile sari brown luxcouture say cold shoulder look touch ten foot pole bostonian buy something find something feel comfortable feel good spending money happy oftentimes little happy plumb depth closet though willing take chance given opportunity harley bilzerian particularly excited spring buy include lurex sparkle laminate believe pleat pleat say really work lot people bought ton related saving shelter dog love story dear civil servant keep really writing mary tyler moore helped make blind date shook hand met old daughter fell prey sex trafficker alyssa giacobbe frequent contributor globe magazine send comment follow u twitter',\n",
       " '451': 'losangeles cbslocal schwarzenegger trump approval rating got swamped schwarzenegger trump approval rating got swamped schwarzenegger trump approval rating got swamped march filed arnold schwarzenegger donald trump los angeles cbsla ap arnold schwarzenegger escalated public feud donald trump tuesday taking twitter criticize trump approval rating schwarzenegger posted video twitter referencing new gallup poll showed trump approval rating percent schwarzenegger tell trump rating got swamped hey advice see hart middle school here info afterschool co nogdhbhyyp pic twitter nqi odvqtf action star former california governor replaced trump host celebrity apprentice trump repeatedly mocked poor television rating schwarzenegger recently return show schwarzenegger also criticized trump proposed budget cut including school program meal wheel invited trump visit washington c middle school see fantastic work done child schwarzenegger support trump presidential run copyright cbs broadcasting inc right reserved associated press contributed report',\n",
       " '861': 'au lifestyle relationship dating writing list saved relationship story e b c c ce de list saved relationship share twitter dating guy half realised life felt stale piece old sourdough small child previous relationship life pretty much series routine bedtime even weekend predictable mow lawn washing market yum cha swimming lesson movie afternoon evening routine rinse repeat decided perhaps caring kind eyed man boring needed someone exciting thought broke subsequently broke heart million jagged piece may suggest rush early love passed slide life actually look feeling boredom normal way discover person truly fall deeply love might realise initial firework faded maybe right sigmund freud sometimes cigar cigar instance meaning find someone boring maybe sometimes boredom relationship may actually symptom something else could groundhog day family life even plain old life ability suck life right allow paramour gone life exciting fact gaping hole left heart made realisation made terrible mistake crash around ear boring family life generally thankfully explained blunder heart hand agreed try insisted write list well list precise list thing wanted weekend child thing wanted weekend asked money consideration time distance always wanted ever vaguely considered deep soul searching stuff flick switch sometimes simply someone work saying something cool made wish list activity large small gave couple week gently gently found groove million piece heart incident came together bar glass chilled pinot gris revealed list discovered always wanted try indoor rock climbing hot air ballooning discovered wanted cook dinner regularly trying new recipe tried discovered wanted travel croatia danielle partner wrote list thing wanted including canyoning wombeyan cave source supplied wanted explore beach home city take day trip picnic wanted dance class wanted tantra class list went read read list grew excited joint future endless possibility explore together family unit couple carefree lover world foot approaching third anniversary nowhere near completed list thing repeat performance cook new thing couple time month surprisingly adept rock climbing keen tantra oh going croatia month never even knew wanted',\n",
       " '1063': 'vogue co uk gallery oscar blue ribbon planned parenthood badge badge ribbon worn oscar meant british vogue gallery expand emma stone discretely placed golden givenchy gown oscar winner emma stone brandished pin badge support planned parenthood non profit organisation provides reproductive health support u across globe discover ruth negga ruth negga used backdrop valentino gown accentuate cornflower blue ribbon wore support american civil liberty union year aclu worked defend preserve individual right liberty guaranteed constitution law united state felt particularly apt ruth sport organisation played role real life story film interracial relationship loving discover dakota johnson joining emma stone dakota wore planned parenthood pin golden clutch organisation currently faced financial issue following president trump signing executive order defund group facilitate abortion emma stone slipping givenchy dress emma paid tribute another cause donning aclu blue ribbon attend vanity fair party karlie kloss proving blue ribbon symbol choice ceremony karlie kloss also stepped support aclu ribbon created specifically support stand aclu initiative recently non profit seen surge donation since trump issued travel ban seven muslim majority country united state',\n",
       " '741': 'hindustantimes health fitness sitting job bad heart waist story v ymslrvzlr w qtxuruj html sitting job bad heart waist health fitness hindustan time desimartini sitting job bad heart waist finding showed desk job higher risk cardiovascular disease compared people without desk job year indo asian service london extra hour sitting five hour day increased level bad cholesterol ldl decreased good cholesterol shutterstock desk bound job beware may heightened risk developing cardiovascular disease increase waist circumference cm every additional hour sitting top five hour researcher warned finding showed desk job bigger waist circumference cm compared cm people without desk job also approximately body mass index bmi unit difference higher risk cardiovascular disease compared people without desk job year read healthy heart avoid skipping breakfast midnight snacking addition extra hour sitting five hour day increased level bad cholesterol ldl decreased good cholesterol hdl longer time spent sedentary posture significantly associated larger waist circumference higher triglyceride fat blood lower hdl cholesterol adding worse risk heart disease william tigbe university warwick britain contrast walking step per day equivalent walking seven eight mile spending seven hour per day upright may associated zero risk factor tigbe added paper published international journal obesity although study could used basis new public health target sitting lying standing stepping avoid metabolic risk challenging achieve unless incorporated people occupation evolution become human specie equip u well spending day sitting probably adapted healthiest spending seven eight hour every day foot hunter gatherer mike lean professor university glasgow tag',\n",
       " '1272': 'express co uk royal queen commonwealth message peace respect world queen speaks respect bid promote peace message commonwealth baton due set global relay buckingham palace working together build peace queen message upholding justice rule law striving society fair offer opportunity overcome division find reconciliation benefit progress prosperity may multiplied shared member commonwealth family find much thankful inheritance received came u consensus co operation great thing achieved getty mark commonwealth day majesty promote theme peace building commonwealth service olympic heptathlon champion dame jessica ennis hill carry queen baton gold coast commonwealth game escorted australian uk athlete including double olympic gold medal cyclist victoria pendleton baton due set global relay buckingham palace watched queen morning queen every reign picture wed february th february royal highness queen elizabeth ii formally proclaimed queen head commonwealth defender faith',\n",
       " '259': 'ftw usatoday atlanta brave spring training marooned disney world orlando travel long grapefruit league mlb brave far toughest spring training schedule let friend social network know reading facebook email brave far toughest spring training schedule club baseball geographically isolated spring training post facebook brave far toughest spring training schedule club baseball geographically isolated spring training check story usatoday ftw usatoday atlanta brave spring training marooned disney world orlando travel long grapefruit league mlb cancel send link sent friend email address posted link posted facebook feed join nation conversation find facebook commenting please read conversation guideline faq brave far toughest spring training schedule ted berg usa today sport p feb share lake buena vista fla grapefruit league schedule set kick weekend atlanta brave face challenge unique among major league baseball club thats knock rebuilding team roster brave make spring training home espn wide world sport complex ground disney world outside orlando lovely place cheerful vacationing family bustling event beyond typical february mundanity club camp last week complex hosted fastpitch softball showcase teenager international baton twirling competition soccer tournament gymnastics event brave nearest neighbor recent season astros national opened new facility west palm beach fla season astros trained nearby kissimmee since franchise known national made spring home viera fla hour east brave camp since still montreal expo flight put brave bit pickle least atlanta club move proposed new facility sarasota club shortest spring road trip face tiger lakeland minute bus ride without traffic safe bet lake buena vista le mile yankee spring home tampa driving tampa area kafkaesque nightmare wherein left turn feel extreme sport trip visit phillies clearwater blue jay dunedin require traveling across around tampa bay risk trust sitting parked congestion causeway shirtless bro next lane unironically pump vanilla ice music window open road game mets port st lucie necessitate hour bus cardinal marlin nats astros train another half hour south mets mile trek play red sox twin fort myers godspeed atlanta brave itll interesting brave catcher anthony recker told usa today sport last week one going volunteering trip im sure want play game different wear little bit aware wearing guy travel manager brian snitker getting back late early youre ready eat bed sudden bus traveling tough remember team dont play series spring training game time every road park rare club put hotel overnight grapefruit league schedule traveling brave player road trip spend three six hour team bus day theyre also expected play baseball game veteran ballplayer rarely make long spring training trip player certain roster spot rarely eager put body interminable ride cramped bus season play game day unlikely big enough factor make break brave undoubtedly disadvantage brave veteran enter regular season little practice elite major leaguers since elite major league opponent ever make trip lake buena vista amount time club coach spend traveling mean le time iron fundamental camp definite obstacle schedule travel snitker told brave coach ron washington day may day stay back guy work spend much time bus want guy coach hand player may adjust tough going astros national previously brave partner isolation experience rare joy road spring training game requiring travel whatsoever since share stadium new spot west palm beach put significantly closer cardinal marlin mets astros manager j hinch asked new traveling schedule griped road trip club make play brave stuck game u orlando wanted remind u still travel spring hinch nice look forward road game three exit north weve got couple road game marlin cardinal coach player continuity playing time dont worry lot three hour bus ride car ride player mapping prepare season cactus league team arizona trip extends beyond phoenix suburban sprawl longest possible bus ride athletics practice mesa royal padre facility surprise take le hour brave shortest trip three road game tiger town require much travel lengthiest cactus league journey amount time take brave fort myers could likely drive surprise three time arizona definitely nice recker spent six pro season oakland organization everybody know difference arizona brave pitcher josh collmenter former diamondback itll little different adjust brave grapefruit league schedule open back back home game saturday sunday relatively short trip lakeland monday another home game tuesday five day march alone brave player trek total total mile round trip ride tampa clearwater jupiter fort myers nearly twice many mile milwaukee brewer choose centrally located cactus league team travel spring read share story ftw usatoday atlanta brave spring training marooned disney world orlando travel long grapefruit league mlb popular',\n",
       " '888': 'hindustantimes jaipur drive anti social liquor jaipur police curb egg sale story sv qn lzgxovte ep html jaipur police clamp egg sale drive anti social element jaipur hindustan time jaipur police clamp egg sale drive anti social element jaipur updated feb ist deep mukherjee hindustan time closed shop egg omelette vendor vidyadhar nagar jaipur sunday photo police clamped shop selling raw cooked egg vidhyadhar nagar drive anti social element consume alcohol stall result last month easier find live chicken shop egg last three month police driven vendor used set stall selling fried egg omelette police told u anti social element come egg shop consume alcohol around vendor left vidhyadhar nagar zakir ali vendor contacted chiranji lal meena vidhyadhar nagar station house officer disconnected phone saying busy received information shop interior vidhyadhar nagar people consume alcohol egg often liquor served shop deputy commissioner police north anshuman bhomia received complaint many people involved anti social activity targeted shop aided ali earns livelihood selling boiled chicken police often come shop see whether selling egg surprisingly problem chicken bizarre logic selling egg encourages alcoholism anti social activity dairy owner also told sell raw egg police come check whether selling raw egg ask u doodh ki dairy mein ando ka kya kaam able sell egg regularly hide somewhere shop display open rack dairy owner told anonymity shop stall issued order close sharp day five minute policeman came shop broke light bulb find vehicle lying unattended road cop start deflating tyre salim khan another shopkeeper curb egg sale caused inconvenience resident mostly come jaipur weekend habit apply egg hair nourishment shruti jain belong vegetarian family bringing home egg difficult task manage name hair care father told ban egg vidhyadhar nagar thought making excuse avoid using egg turned true jhotwara buy egg bhomia police told vendor association restriction egg sale central area locality told egg stall disappeared vidhyadhar nagar look matter case tag',\n",
       " '1432': 'edition u texas sanctuary city fight index html texas senate advance anti sanctuary city bill story highlight trump ordered crackdown local official dont help fed opponent immigrant fear police wont aid solving crime texas state senate gave preliminary approval bill tuesday effectively abolish called sanctuary city requiring local police agency enforce immigration law request federal official senate bill law enforcement city county college campus hold arrested person custody u custom immigration enforcement look immigration status entity fail could denied state grant money texas state senator approved bill along party line republican backing democrat opposed bill procedural vote senate wednesday heading state house elected official pick choose law obey republican gov greg abbott prepared statement vote today action senate help ensure sheriff official across texas comply federal immigration law honor immigration custom enforcement detainer request keep dangerous criminal street measure come day president donald trump signed executive order strip sanctuary state city federal funding attempt shield alien deportation read sanctuary city explained texas bill answer local jurisdiction picking choosing law enforce author republican state sen charles perry lubbock told rule law matter individual picking choosing law implement implement law perpetuates instability perry bill also allow crime victim sue local official release immigrant fed suspect country without proper document people commit felony within year release permit officer stop vehicle search home business solely enforce federal law relating alien immigrant immigration draft state critic speak bill critic hurt police relation immigrant community undermining trust local law enforcement worry immigrant feel le inclined report crime work police fearful theyd punished travis county sheriff sally hernandez democrat whose jurisdiction includes state capital austin attracted praise criticism announced office hold immigrant ice unless arrested murder sexual assault human trafficking federal agent issued warrant community safer people report crime without fear deportation hernandez statement issued voter elected state leader expect deserve collaborative effort come solution complex issue precisely im committed hernandezs policy enacted feb prompted showdown gov abbott last week cut million state funding travis county bill approved hundred testify week ago state state address abbott declared banning sanctuary city texas emergency item lawmaker session declaration allowed legislator address perry bill immediately rather waiting several day law enforcement official texas openly refusing enforce existing law governor unacceptable today declared banning sanctuary city emergency item texas well done penalize offender txlege greg abbott january sb poised move state house set consider identical measure hb state affair committee approved senate version last thursday hour emotional testimony hundred people signed speak opposition instills fear within immigrant community woman undocumented college student according affiliate kxan want mom feel safe walking within neighborhood want feel safe driving work want feel safe visiting university committee voted shortly friday advance bill full senate sanctuary city fight back heel trump order mayor several city vowed defend sanctuary status last tuesday san francisco became u city file lawsuit arguing exceeds president power',\n",
       " '712': 'hindustantimes india indian released year togo jail set return home story ednr zy shwxk jgnkacp html indian released year togo jail set return home india hindustan time today new delhi india feb friday',\n",
       " '1382': 'feed reuters r reuters entertainment mr oxhwu vc u music xjapan iduskbn e yz japanese rock band x japan dazzle fan london show',\n",
       " '70': 'vice story week four donald trump week trump america flynn resigns link russia wild press conference week trump america flynn resigns link russia wild press conference rex santus feb week trump america delivered inbox sign week sentence donald trump played round golf japanese prime minister shinzo abe discussed national security issue front mar lago diner staff brushed tie russia national security adviser michael flynn resigned meeting canadian prime minister justin trudeau saw yet another legal blow immigration ban faced mounting allegation tie russia new york time report member presidential campaign repeated contact senior russian intelligence official met israeli prime minister benjamin netanyahu day appearing abandon u support state solution israel palestine saw andrew puzder withdraw nomination labor secretary series scandal attacked medium wild press conference promised another immigration ban announced plan nominate hispanic cabinet pick claimed outstanding pick replace michael flynn pick turned job hour later made chris christie order meatloaf insisted everything running fine trump meet shinzo abe day feb donald trump hosted meeting japanese prime minister shinzo abe played round golf trump resort florida black plastic covered door window overlooking golf course blocking journalist witnessing meeting report put price tag billion wall supposed built u mexico border trump tweeted hour later get involved price come way blunder mar lago day feb donald trump apparently discussed national security issue specifically north korea test firing ballistic missile mar lago terrace full diner staff photograph posted social medium appeared show aide swarming trump table using phone flashlight help president abe read document u immigration official arrested hundred undocumented resident series raid across least six state several day major crackdown since trump signed executive order jan vowing ramp immigration enforcement activity flynn resigns day feb trump beleaguered national security adviser michael flynn resigned admitting misled vice president mike penny discussed sanction russia trump took office timeline flynn resignation raise kind red flag white house trump canadian prime minister justin trudeau held joint conference washington trudeau refused criticize trump federal judge virginia dealt perhaps strongest blow yet trump attempt keep resident seven majority muslim country entering u judge state attorney general challenge ban likely succeed religious freedom clause amendment russia russia russia day feb bombshell leak inside white house claim senior member trump campaign team regular contact senior russian intelligence official election directly contradicting statement president team trump dogged controversy staff tie russia trump called russian hacker find release hillary clinton email campaign event last summer senate second ranking republican joined gop lawmaker earlier day calling investigation president trump tie russia trump reportedly still us unsecured android phone senator called investigation vice coverage republican congress skipping town hall constituent trump tower rio still built resident pushed happier trump white house keep making spelling mistake supporter probably care senate republican suddenly want investigate trump tie russia minority activist discus planning trump unpredictable executive order latest block trump immigration ban strongest yet expert timeline flynn resignation raise kind red flag white house trump declared open season young immigrant protected obama activist say democrat vying lead party fight donald trump trump meet netanyahu puzder withdraws day feb trump israeli prime minister benjamin netanyahu met white house sit leader smile handshake day trump white house announced major policy shift seemed abandon u long standing commitment state solution donald trump pick secretary labor fast food executive andrew puzder withdrew confirmation process scrutiny personal professional life made republican senator reluctant confirm watched decade old episode oprah high class battered woman puzder ex wife appeared incognito accusing abuse puzder admitted employing undocumented housekeeper history supporting machine replacement worker trump wild press conference day feb trump attacked medium dismissed suggestion white house crisis bizarre minute press conference really bad person way see key moment leak real fake here trump response pic twitter q lqlikou vice february conference trump promised new immigration order tailored bypass court decision blocking current ban trump also announced plan nominate alexander acosta labor secretary acosta hispanic member trump cabinet military veteran robert harward trump outstanding candidate replace michael flynn national security adviser rejected offer job hour trump alluded harward conference everything fine day feb donald trump kicked day friday thanking supporter nice statement received regarding performance thursday press conference rush limbaugh greatest ever trump tweeted trump also noted candidate replace michael flynn calling keith kellogg name harward rejected job reportedly calling position shit sandwich associated press reported trump white house considering mobilization many national guard troop state round unauthorized immigrant according draft memo governor state choice participate memo chris christie trump made order meatloaf dining white house trump new jersey governor quipped say menu guy order whatever want say chris going meatloaf week potus tweet real scandal classified information illegally given intelligence candy un american donald j trump february democrat come story lost election badly made story russia fake donald j trump february know mark cuban well backed big time wasnt interested taking call he smart enough run president donald j trump february thank nice statement press conference yesterday rush limbaugh greatest ever fake medium happy donald j trump february follow trump tracker',\n",
       " '1268': 'kentucky sport article video malik monk talk dagger pointer play meant someone watch malik monk explains dagger pointer manage watch malik monk explains dagger pointer malik monk pushed kentucky past wichita state ncaa tournament sunday key basket admits designed someone else',\n",
       " '1491': 'nydailynews life style fashion gigi hadid increase love middle east u article gigi hadid could increase love middle east u gigi hadid could key peace middle east tommy hilfiger say gigi hadid could increase love middle east u saturday march gigi hadid could america secret weapon fashion designer tommy hilfiger told tmz hadids latest magazine cover vogue arabia shes sporting bedazzled hijab could key mending middle eastern relation think may melt relation increase love middle east america gigis conduit hilfiger told gossip site old model arabia edition inaugural model debuted arabic english cover march gigi hadid accused mocking asian think beautiful incredible hilfiger look hadid frequents tommy hilfiger runway even recently launched gigi x tommy collection popular brand post shared gigi hadid mar pst hilfiger added star shes great however everyone feel hadid cover although hadid half palestinian muslim causing question mag choice throwing hijab hire islamic model user tweeted another added gigi hadid wearing hijab probably stupidest thing vogue could done clearly dont understand arab model gigi hadid designer tommy hilfiger new york fashion week sept trevor collens afp getty image gigi getting praised wearing hijab bc fashion woman actually wear hijab attacked shamed threatened another wrote gigi hadid get barbie doll remark supermodel negative however great using fame promote hijab palestinian people supporter wrote magazine editor stated there better face lead charge vogue arabia gigi tag',\n",
       " '607': 'naij inec preparation election html inec begin preparation election naij inec defended supplementary budget house representative commission chairman started preparation election idea using national id car voting feasible independent national electoral commission inec revealed already begun preparation general election punch report prof mahmood yakubu chairman inec made revelation addressed house representative committee electoral matter abuja monday february defend commission budget yakubu commission want pressed time started preparation early strategic plan ground fine tune financial implication election committee chaired mr aisha dukku member progressive congress gombe state inec chief revealed plan discussed executive branch explained part plan work budget election beginning supplementary request submitted national assembly later point cannot put figure budget election complete process validating strategic plan therefore likely approach executive national assembly supplementary budget supplementary aspect incorporate something election main proposal apart anambra state governorship election numerous election member noted inec submitting supplementary budget rather full mr betty apiafi usually issue supplementary budget delay wish started full budget budget asked clarify issue using national identity card election feasibly vice president office still harmonising data yakubu policy direction bringing agency individual data base together harmonise national id card process concluded inec today largest data base country million registered voter huge figure much larger talk population many african country put together',\n",
       " '433': 'timesofindia indiatimes entertainment hindi bollywood trailer baahubali conclusion leave sheer awe articleshow cm trailer baahubali conclusion launched trailer baahubali conclusion leave sheer awe mar ist tnn trailer rajamoulis magnum opus baahubali conclusion finally film anticipated release minute twenty second long trailer wonderful least pique curiosity audience make fan franchise eager watch vfx trailer mind blowing notch installment film prabhas rana daggubati steal show epic action sequence baahubali beginning audience expect high voltage drama second installment highly successful franchise poster film released sometime back hinted gruesome action sequence battlefield trailer give u peek baahubalis dialogue katappa tumhare hote hue mujhe maarne waala paida nahi hua mama leaf impact long wait audience finally know katappa killed baahubali however maker smartly dont give clue trailer katappa killed baahubali tease audience watch film answer baahubali conclusion release across cinema april',\n",
       " '51': 'inquisitr nba trade rumor jimmy butler lakers derrick rose timberwolves confirmed nba trade rumor jimmy butler lakers derrick rose timberwolves confirmed ronald cress latest nba trade rumor chicago bull still talking team trade jimmy butler time negotiating l lakers side minnesota timberwolves reportedly acquired derrick rose new york knicks part deal involving ricky rubio team boston celtic ship jimmy butler lakers able acquire demarcus cousin sacramento king also wanted brandon ingram may close deal bull l chicago currently discussing trade involving butler may exchanged lou williams jordan clarkson julius randle ongoing discussion bull reportedly also begun talking lakers lal failed trade talk sac ingram involved mike adamle february bull michael carter williams brought well according mike adamle time ingram included nba trade talk angelo russell lakers nation report overall seems pretty good deal l surprise take chicago nba trade offer however unknown bull asking jimmy possibly carter williams image alonzo adam ap image another nba butler also seemingly eyed boston celtic also passed cousin according adrian wojnarowski vertical boston chicago started talking yet gone far unknown player pick celtic side involved nba trade talk nba team butler want part star player matter long play basketball play basketball best ability told usa today nothing control control talk worry surprise jimmy butler sport different uniform nba trade deadline minnesota timberwolves want derrick rose according league source wojranowski new york knicks minnesota timberwolves agreed deal derrick rose going exchange ricky rubio cash consideration source new york knicks agreed send derrick rose minnesota ricky rubio cash consideration per league source adrian wojnarowski february report come minnesota interest rose broke team reportedly interested former mvp seems knicks getting timberwolves offer espn previously reported minnesota reached new york knicks possible nba trade involving former nba mvp derrick rose according source rumor suggested ricky may traded rose apparently rumor correct iage michael reaves stringer getty image rubio departure make way kris dunn timberwolves next starting point guard reason minnesota reportedly actively offering old spanish nba player per sporting hand rubio expected make better defense although rose talented charging poor job defender knicks nba season deal come gain side minnesota get rid rubio new york get better defender facilitator unknown timberwolves intends derrick rose though exactly mvp form right clear taking rose put better defense could use drive basket zach lavine heals torn acl rest nba season featured image jonathan daniel getty image'}"
      ]
     },
     "execution_count": 23,
     "metadata": {},
     "output_type": "execute_result"
    }
   ],
   "source": [
    "import pandas as pd\n",
    "import json\n",
    "import requests\n",
    "\n",
    "with open('../ctc20.json', 'r') as f:\n",
    "    body_dict = json.load(f)\n",
    "data = body_dict['0']\n",
    "data"
   ]
  },
  {
   "cell_type": "code",
   "execution_count": 34,
   "metadata": {},
   "outputs": [],
   "source": [
    "files = {'upload_file': open('../ctc20.json', 'r')}"
   ]
  },
  {
   "cell_type": "code",
   "execution_count": 36,
   "metadata": {},
   "outputs": [
    {
     "name": "stdout",
     "output_type": "stream",
     "text": [
      "<Response [500]>\n"
     ]
    }
   ],
   "source": [
    "\n",
    "#data=pd.read_json('user5k.json')\n",
    "heroku_url = 'https://news-model.herokuapp.com/' # change to your app name\n",
    "send_request = requests.post(heroku_url,files)\n",
    "print(send_request)"
   ]
  },
  {
   "cell_type": "markdown",
   "metadata": {},
   "source": [
    "#### With our `<Response [200]>` result, we can access the data through JSON"
   ]
  },
  {
   "cell_type": "code",
   "execution_count": 33,
   "metadata": {},
   "outputs": [
    {
     "ename": "NameError",
     "evalue": "name 'result' is not defined",
     "output_type": "error",
     "traceback": [
      "\u001b[0;31m---------------------------------------------------------------------------\u001b[0m",
      "\u001b[0;31mNameError\u001b[0m                                 Traceback (most recent call last)",
      "\u001b[0;32m<ipython-input-33-0a6c943df2b2>\u001b[0m in \u001b[0;36m<module>\u001b[0;34m\u001b[0m\n\u001b[0;32m----> 1\u001b[0;31m \u001b[0mpokemon\u001b[0m \u001b[0;34m=\u001b[0m \u001b[0mresult\u001b[0m\u001b[0;34m.\u001b[0m\u001b[0mjson\u001b[0m\u001b[0;34m(\u001b[0m\u001b[0;34m)\u001b[0m\u001b[0;34m\u001b[0m\u001b[0;34m\u001b[0m\u001b[0m\n\u001b[0m\u001b[1;32m      2\u001b[0m \u001b[0mpokemon\u001b[0m\u001b[0;34m.\u001b[0m\u001b[0mkeys\u001b[0m\u001b[0;34m(\u001b[0m\u001b[0;34m)\u001b[0m\u001b[0;34m\u001b[0m\u001b[0;34m\u001b[0m\u001b[0m\n",
      "\u001b[0;31mNameError\u001b[0m: name 'result' is not defined"
     ]
    }
   ],
   "source": [
    "pokemon = result.json()\n",
    "pokemon.keys()"
   ]
  },
  {
   "cell_type": "markdown",
   "metadata": {},
   "source": [
    "#### Inspecting the key structure of our pokemon result, we can explore the different aspects of our Pokemon result"
   ]
  },
  {
   "cell_type": "code",
   "execution_count": 4,
   "metadata": {},
   "outputs": [
    {
     "data": {
      "text/plain": [
       "'golduck'"
      ]
     },
     "execution_count": 4,
     "metadata": {},
     "output_type": "execute_result"
    }
   ],
   "source": [
    "pokemon['name']"
   ]
  },
  {
   "cell_type": "code",
   "execution_count": 5,
   "metadata": {},
   "outputs": [
    {
     "data": {
      "text/plain": [
       "[{'base_stat': 85,\n",
       "  'effort': 0,\n",
       "  'stat': {'name': 'speed', 'url': 'https://pokeapi.co/api/v2/stat/6/'}},\n",
       " {'base_stat': 80,\n",
       "  'effort': 0,\n",
       "  'stat': {'name': 'special-defense',\n",
       "   'url': 'https://pokeapi.co/api/v2/stat/5/'}},\n",
       " {'base_stat': 95,\n",
       "  'effort': 2,\n",
       "  'stat': {'name': 'special-attack',\n",
       "   'url': 'https://pokeapi.co/api/v2/stat/4/'}},\n",
       " {'base_stat': 78,\n",
       "  'effort': 0,\n",
       "  'stat': {'name': 'defense', 'url': 'https://pokeapi.co/api/v2/stat/3/'}},\n",
       " {'base_stat': 82,\n",
       "  'effort': 0,\n",
       "  'stat': {'name': 'attack', 'url': 'https://pokeapi.co/api/v2/stat/2/'}},\n",
       " {'base_stat': 80,\n",
       "  'effort': 0,\n",
       "  'stat': {'name': 'hp', 'url': 'https://pokeapi.co/api/v2/stat/1/'}}]"
      ]
     },
     "execution_count": 5,
     "metadata": {},
     "output_type": "execute_result"
    }
   ],
   "source": [
    "pokemon['stats']"
   ]
  },
  {
   "cell_type": "markdown",
   "metadata": {},
   "source": [
    "### Sometimes resources returned from an API refer to other endpoints.\n",
    "\n",
    "In the pokemon stats area of the Pokemon result, we can see a **stat url** being returned.  To look up more data related to the first stat reported by the **golduck** Pokemon, **speed**, we can easily make another request.\n",
    "\n",
    "> Sometimes these types of resources in results, can be a simple, single number identifier.  However, here we see it as a full URL / **endpoint**."
   ]
  },
  {
   "cell_type": "code",
   "execution_count": 6,
   "metadata": {},
   "outputs": [
    {
     "data": {
      "text/plain": [
       "{'affecting_moves': {'decrease': [{'change': -1,\n",
       "    'move': {'name': 'bubble-beam',\n",
       "     'url': 'https://pokeapi.co/api/v2/move/61/'}},\n",
       "   {'change': -2,\n",
       "    'move': {'name': 'string-shot',\n",
       "     'url': 'https://pokeapi.co/api/v2/move/81/'}},\n",
       "   {'change': -1,\n",
       "    'move': {'name': 'constrict',\n",
       "     'url': 'https://pokeapi.co/api/v2/move/132/'}},\n",
       "   {'change': -1,\n",
       "    'move': {'name': 'bubble', 'url': 'https://pokeapi.co/api/v2/move/145/'}},\n",
       "   {'change': -2,\n",
       "    'move': {'name': 'cotton-spore',\n",
       "     'url': 'https://pokeapi.co/api/v2/move/178/'}},\n",
       "   {'change': -2,\n",
       "    'move': {'name': 'scary-face',\n",
       "     'url': 'https://pokeapi.co/api/v2/move/184/'}},\n",
       "   {'change': -1,\n",
       "    'move': {'name': 'icy-wind',\n",
       "     'url': 'https://pokeapi.co/api/v2/move/196/'}},\n",
       "   {'change': -1,\n",
       "    'move': {'name': 'rock-tomb',\n",
       "     'url': 'https://pokeapi.co/api/v2/move/317/'}},\n",
       "   {'change': -1,\n",
       "    'move': {'name': 'mud-shot',\n",
       "     'url': 'https://pokeapi.co/api/v2/move/341/'}},\n",
       "   {'change': -1,\n",
       "    'move': {'name': 'hammer-arm',\n",
       "     'url': 'https://pokeapi.co/api/v2/move/359/'}},\n",
       "   {'change': -1,\n",
       "    'move': {'name': 'low-sweep',\n",
       "     'url': 'https://pokeapi.co/api/v2/move/490/'}},\n",
       "   {'change': -1,\n",
       "    'move': {'name': 'bulldoze',\n",
       "     'url': 'https://pokeapi.co/api/v2/move/523/'}},\n",
       "   {'change': -1,\n",
       "    'move': {'name': 'electroweb',\n",
       "     'url': 'https://pokeapi.co/api/v2/move/527/'}},\n",
       "   {'change': -1,\n",
       "    'move': {'name': 'glaciate',\n",
       "     'url': 'https://pokeapi.co/api/v2/move/549/'}},\n",
       "   {'change': -1,\n",
       "    'move': {'name': 'v-create',\n",
       "     'url': 'https://pokeapi.co/api/v2/move/557/'}},\n",
       "   {'change': -1,\n",
       "    'move': {'name': 'venom-drench',\n",
       "     'url': 'https://pokeapi.co/api/v2/move/599/'}}],\n",
       "  'increase': [{'change': 2,\n",
       "    'move': {'name': 'agility', 'url': 'https://pokeapi.co/api/v2/move/97/'}},\n",
       "   {'change': 1,\n",
       "    'move': {'name': 'ancient-power',\n",
       "     'url': 'https://pokeapi.co/api/v2/move/246/'}},\n",
       "   {'change': 1,\n",
       "    'move': {'name': 'silver-wind',\n",
       "     'url': 'https://pokeapi.co/api/v2/move/318/'}},\n",
       "   {'change': 1,\n",
       "    'move': {'name': 'dragon-dance',\n",
       "     'url': 'https://pokeapi.co/api/v2/move/349/'}},\n",
       "   {'change': 2,\n",
       "    'move': {'name': 'rock-polish',\n",
       "     'url': 'https://pokeapi.co/api/v2/move/397/'}},\n",
       "   {'change': 1,\n",
       "    'move': {'name': 'ominous-wind',\n",
       "     'url': 'https://pokeapi.co/api/v2/move/466/'}},\n",
       "   {'change': 2,\n",
       "    'move': {'name': 'autotomize',\n",
       "     'url': 'https://pokeapi.co/api/v2/move/475/'}},\n",
       "   {'change': 1,\n",
       "    'move': {'name': 'quiver-dance',\n",
       "     'url': 'https://pokeapi.co/api/v2/move/483/'}},\n",
       "   {'change': 1,\n",
       "    'move': {'name': 'flame-charge',\n",
       "     'url': 'https://pokeapi.co/api/v2/move/488/'}},\n",
       "   {'change': 2,\n",
       "    'move': {'name': 'shift-gear',\n",
       "     'url': 'https://pokeapi.co/api/v2/move/508/'}},\n",
       "   {'change': 2,\n",
       "    'move': {'name': 'geomancy',\n",
       "     'url': 'https://pokeapi.co/api/v2/move/601/'}}]},\n",
       " 'affecting_natures': {'decrease': [{'name': 'brave',\n",
       "    'url': 'https://pokeapi.co/api/v2/nature/21/'},\n",
       "   {'name': 'relaxed', 'url': 'https://pokeapi.co/api/v2/nature/22/'},\n",
       "   {'name': 'quiet', 'url': 'https://pokeapi.co/api/v2/nature/23/'},\n",
       "   {'name': 'sassy', 'url': 'https://pokeapi.co/api/v2/nature/24/'}],\n",
       "  'increase': [{'name': 'timid', 'url': 'https://pokeapi.co/api/v2/nature/5/'},\n",
       "   {'name': 'hasty', 'url': 'https://pokeapi.co/api/v2/nature/10/'},\n",
       "   {'name': 'jolly', 'url': 'https://pokeapi.co/api/v2/nature/16/'},\n",
       "   {'name': 'naive', 'url': 'https://pokeapi.co/api/v2/nature/20/'}]},\n",
       " 'characteristics': [{'url': 'https://pokeapi.co/api/v2/characteristic/6/'},\n",
       "  {'url': 'https://pokeapi.co/api/v2/characteristic/12/'},\n",
       "  {'url': 'https://pokeapi.co/api/v2/characteristic/18/'},\n",
       "  {'url': 'https://pokeapi.co/api/v2/characteristic/24/'},\n",
       "  {'url': 'https://pokeapi.co/api/v2/characteristic/30/'}],\n",
       " 'game_index': 4,\n",
       " 'id': 6,\n",
       " 'is_battle_only': False,\n",
       " 'move_damage_class': None,\n",
       " 'name': 'speed',\n",
       " 'names': [{'language': {'name': 'ja-Hrkt',\n",
       "    'url': 'https://pokeapi.co/api/v2/language/1/'},\n",
       "   'name': 'すばやさ'},\n",
       "  {'language': {'name': 'fr', 'url': 'https://pokeapi.co/api/v2/language/5/'},\n",
       "   'name': 'Vitesse'},\n",
       "  {'language': {'name': 'de', 'url': 'https://pokeapi.co/api/v2/language/6/'},\n",
       "   'name': 'Initiative'},\n",
       "  {'language': {'name': 'es', 'url': 'https://pokeapi.co/api/v2/language/7/'},\n",
       "   'name': 'Velocidad'},\n",
       "  {'language': {'name': 'it', 'url': 'https://pokeapi.co/api/v2/language/8/'},\n",
       "   'name': 'Velocità'},\n",
       "  {'language': {'name': 'en', 'url': 'https://pokeapi.co/api/v2/language/9/'},\n",
       "   'name': 'Speed'}]}"
      ]
     },
     "execution_count": 6,
     "metadata": {},
     "output_type": "execute_result"
    }
   ],
   "source": [
    "# stat 6 = speed\n",
    "endpoint = \"https://pokeapi.co/api/v2/stat/6/\"\n",
    "stat_6 = requests.get(endpoint).json()\n",
    "stat_6"
   ]
  },
  {
   "cell_type": "markdown",
   "metadata": {},
   "source": [
    "### Conclusion\n",
    "\n",
    "- WebAPI's are designed to allow a user to query a system of data, through an organized system of URL patterns.\n",
    "- JSON is the modern format standard of which data is transacted.\n",
    "- Many popular services and platform provide a web API for developers to use.\n",
    "\n"
   ]
  },
  {
   "cell_type": "markdown",
   "metadata": {},
   "source": [
    "### Recommended reading\n",
    "\n",
    "- [Mining Twitter Data With Python](https://marcobonzanini.com/2015/03/02/mining-twitter-data-with-python-part-1/)\n",
    "- [Understanding OAuth](http://www.bubblecode.net/en/2016/01/22/understanding-oauth2/)\n",
    "- [Lecture series on RESTful API's](http://www.restapitutorial.com/) see also the [excellent presentation](https://www.youtube.com/watch?v=llpr5924N7E) within the same resources."
   ]
  }
 ],
 "metadata": {
  "kernelspec": {
   "display_name": "Python 3",
   "language": "python",
   "name": "python3"
  },
  "language_info": {
   "codemirror_mode": {
    "name": "ipython",
    "version": 3
   },
   "file_extension": ".py",
   "mimetype": "text/x-python",
   "name": "python",
   "nbconvert_exporter": "python",
   "pygments_lexer": "ipython3",
   "version": "3.7.5"
  }
 },
 "nbformat": 4,
 "nbformat_minor": 2
}
